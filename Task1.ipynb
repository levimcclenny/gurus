{
  "nbformat": 4,
  "nbformat_minor": 0,
  "metadata": {
    "colab": {
      "name": "Task1.ipynb",
      "provenance": [],
      "collapsed_sections": [],
      "toc_visible": true,
      "mount_file_id": "15gnoj2SlVoNKvBJV1BKPnKdag1joVEMi",
      "authorship_tag": "ABX9TyMDXWjaOmle2qdd9G8vIw1S",
      "include_colab_link": true
    },
    "kernelspec": {
      "name": "python3",
      "display_name": "Python 3"
    }
  },
  "cells": [
    {
      "cell_type": "markdown",
      "metadata": {
        "id": "view-in-github",
        "colab_type": "text"
      },
      "source": [
        "<a href=\"https://colab.research.google.com/github/levimcclenny/gurus/blob/master/Task1.ipynb\" target=\"_parent\"><img src=\"https://colab.research.google.com/assets/colab-badge.svg\" alt=\"Open In Colab\"/></a>"
      ]
    },
    {
      "cell_type": "markdown",
      "metadata": {
        "id": "1e0hb72N5DWx"
      },
      "source": [
        "# Pythagorean Theorem\n",
        "$c^2 = a^2 + b^2$"
      ]
    },
    {
      "cell_type": "code",
      "metadata": {
        "colab": {
          "base_uri": "https://localhost:8080/"
        },
        "id": "QLOfbhEa48oz",
        "outputId": "e0ec30f9-211b-4256-919a-62c069969e21"
      },
      "source": [
        "def hyp(a,b):\n",
        "  return (a**2 + b**2)**(1/2)\n",
        "\n",
        "print(hyp(1,2))"
      ],
      "execution_count": 5,
      "outputs": [
        {
          "output_type": "stream",
          "text": [
            "2.23606797749979\n"
          ],
          "name": "stdout"
        }
      ]
    },
    {
      "cell_type": "markdown",
      "metadata": {
        "id": "qOR3AHTODyte"
      },
      "source": [
        "# Naive Bayes"
      ]
    },
    {
      "cell_type": "code",
      "metadata": {
        "colab": {
          "base_uri": "https://localhost:8080/"
        },
        "id": "Nrg7-5VTCx_I",
        "outputId": "83d94b58-ec02-4972-b80a-12bdf38248d2"
      },
      "source": [
        "import sklearn.model_selection as model_selection\n",
        "from sklearn.feature_extraction.text import CountVectorizer\n",
        "import tensorflow\n",
        "import torch\n",
        "import numpy as np\n",
        "import pandas as pd\n",
        "import pickle\n",
        "from sklearn.naive_bayes import MultinomialNB\n",
        "from sklearn.metrics import classification_report\n",
        "\n",
        "df = pd.read_csv(\"drive/MyDrive/lp_data/SMSSpamCollection.txt\", delimiter=\"\\t\", header=None)\n",
        "X = list(df[1])\n",
        "y = list(df[0])\n",
        "\n",
        "X_train, X_test, y_train, y_test = model_selection.train_test_split(X, y, test_size=0.33, random_state=42)\n",
        "\n",
        "vectorizer = CountVectorizer()\n",
        "X_train = vectorizer.fit_transform(X_train)\n",
        "X_test = vectorizer.transform(X_test)\n",
        "\n",
        "dump = [X_train, y_train, X_test, y_test]\n",
        "\n",
        "pickle.dump( dump, open( \"dump.pkl\", \"wb\" ) )\n",
        "\n",
        "clf = MultinomialNB()\n",
        "clf.fit(X_train, y_train)\n",
        "\n",
        "from tempfile import mkdtemp\n",
        "savedir = \"drive/MyDrive/lp_data\"\n",
        "import os\n",
        "filename = os.path.join(savedir, 'out.joblib')\n",
        "import joblib\n",
        "joblib.dump(clf, filename) "
      ],
      "execution_count": 86,
      "outputs": [
        {
          "output_type": "execute_result",
          "data": {
            "text/plain": [
              "['drive/MyDrive/lp_data/out.joblib']"
            ]
          },
          "metadata": {
            "tags": []
          },
          "execution_count": 86
        }
      ]
    },
    {
      "cell_type": "code",
      "metadata": {
        "colab": {
          "base_uri": "https://localhost:8080/"
        },
        "id": "ZJ-Bdk1NZ6HT",
        "outputId": "c34c1784-bd75-4a57-b052-238780262da8"
      },
      "source": [
        "print(classification_report(y_test, clf.predict(X_test)))"
      ],
      "execution_count": 87,
      "outputs": [
        {
          "output_type": "stream",
          "text": [
            "              precision    recall  f1-score   support\n",
            "\n",
            "         ham       0.99      1.00      0.99      1593\n",
            "        spam       0.97      0.95      0.96       246\n",
            "\n",
            "    accuracy                           0.99      1839\n",
            "   macro avg       0.98      0.97      0.98      1839\n",
            "weighted avg       0.99      0.99      0.99      1839\n",
            "\n"
          ],
          "name": "stdout"
        }
      ]
    },
    {
      "cell_type": "code",
      "metadata": {
        "id": "jWwohxzAbSc7"
      },
      "source": [
        ""
      ],
      "execution_count": null,
      "outputs": []
    }
  ]
}